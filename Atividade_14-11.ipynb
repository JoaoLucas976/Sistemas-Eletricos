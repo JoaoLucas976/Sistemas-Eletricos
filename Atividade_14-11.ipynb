{
 "cells": [
  {
   "cell_type": "markdown",
   "metadata": {},
   "source": [
    "# Questão ENADE 1998\n",
    "\n",
    "A Companhia de Eletricidade do Vale Dourado dispõe de duas subestações de 130kV alimentadas por um sistema de transmissão cujo diagrama unificar é apresentado na figura. A impedância série de cada linha é igual a **0,26 + j0,52 $\\Omega$ /Km** e o efeito capacitivo é desprezado. A divisão de operação da Companhia executou o estudo de fluxo de carga desse sistema para três condições de carga, e baseado no período de carga máxima, decidiu que deveria ser instalado um banco de capacitores da SUB02, de forma a obter nesse ponto, uma tensão de 1,0 pu. A tabela 6.5 apresenta alguns resultados da execução do fluco de carga do sistema, onde GER00 foi considerada uma barra de balanço."
   ]
  },
  {
   "cell_type": "markdown",
   "metadata": {},
   "source": [
    "<img src=\"https://drive.google.com/uc?export=view&id=1WqatJKjGVjLsecjenCsJ1jGlQ2bKMgoh\">"
   ]
  },
  {
   "cell_type": "markdown",
   "metadata": {},
   "source": [
    "Dado que as potências ativa e reativa (em pu) transmitidas entre as barras i e k de um SEP (desprezando o efeito capacitivo) são dados por:\n",
    "$$\n",
    "    P_{ik} = G_{ik}V^2_{ik} - G_{ik}V_{i}V_{k}cos\\Theta_{ik} + B_{ik}V_{i}V_{k}sen\\Theta_{ik} \\\\[10pt]\n",
    "    Q_{ik} = -B_{ik}V^2_{i} - G_{ik}V_{i}V_{k}sen\\Theta_{ik} + B_{ik}V_{i}V_{k}cos\\Theta_{ik}\n",
    "$$"
   ]
  },
  {
   "cell_type": "code",
   "execution_count": 27,
   "metadata": {},
   "outputs": [],
   "source": [
    "from numpy import real, imag, sin, cos"
   ]
  },
  {
   "cell_type": "markdown",
   "metadata": {},
   "source": [
    "a) Expresse a impedância das linhas em p.u. adotanto 100MVA como base de potência e a tensão de linha como base de tensão."
   ]
  },
  {
   "cell_type": "code",
   "execution_count": 28,
   "metadata": {},
   "outputs": [
    {
     "name": "stdout",
     "output_type": "stream",
     "text": [
      "Z1(pu) = (0.02+0.04j)\n",
      "Z2(pu) = (0.01+0.02j)\n",
      "Z3(pu) = (0.015+0.03j)\n"
     ]
    }
   ],
   "source": [
    "Vb = 130e3\n",
    "Pb = 100e6\n",
    "Z1 = 13*(0.26 + 0.52j)\n",
    "Z2 = 6.5*(0.26 + 0.52j)\n",
    "Z3 = 9.75*(0.26 + 0.52j)\n",
    "\n",
    "Zb = Vb**2/Pb\n",
    "Z1pu = Z1/Zb\n",
    "Z2pu = Z2/Zb\n",
    "Z3pu = Z3/Zb\n",
    "\n",
    "print(f\"Z1(pu) = {Z1pu}\")\n",
    "print(f\"Z2(pu) = {Z2pu}\")\n",
    "print(f\"Z3(pu) = {Z3pu:.3}\")"
   ]
  },
  {
   "cell_type": "markdown",
   "metadata": {},
   "source": [
    "b) Determine a potência do banco de capacitores instalado em SUB02"
   ]
  },
  {
   "cell_type": "code",
   "execution_count": 29,
   "metadata": {},
   "outputs": [],
   "source": [
    "V1 = 1.00; F1 = 0\n",
    "V2 = 0.99; F2 = -0.03037\n",
    "V3 = 1.00; F3 = -0.03039"
   ]
  },
  {
   "cell_type": "code",
   "execution_count": 30,
   "metadata": {},
   "outputs": [],
   "source": [
    "G1 = real(1/Z1pu); B1 = imag(1/Z1pu)\n",
    "G2 = real(1/Z2pu); B2 = imag(1/Z2pu)\n",
    "G3 = real(1/Z3pu); B3 = imag(1/Z3pu)"
   ]
  },
  {
   "cell_type": "code",
   "execution_count": 36,
   "metadata": {},
   "outputs": [
    {
     "name": "stdout",
     "output_type": "stream",
     "text": [
      "\n",
      "    B1 = -20.00 ; G1 = 10.00\n",
      "    B2 = -40.00 ; G2 = 20.00\n",
      "    B3 = -26.67 ; G3 = 13.33\n",
      "\n"
     ]
    }
   ],
   "source": [
    "msg = f\"\"\"\n",
    "    B1 = {B1:.2f} ; G1 = {G1:.2f}\n",
    "    B2 = {B2:.2f} ; G2 = {G2:.2f}\n",
    "    B3 = {B3:.2f} ; G3 = {G3:.2f}\n",
    "\"\"\"\n",
    "print(msg)"
   ]
  },
  {
   "cell_type": "code",
   "execution_count": 38,
   "metadata": {},
   "outputs": [
    {
     "name": "stdout",
     "output_type": "stream",
     "text": [
      "P13 = 3.5344\n",
      "P32 = 6.5991\n",
      "P33 = 0.0000\n"
     ]
    }
   ],
   "source": [
    "# P(capacitores) = P13 + P32\n",
    "P13 = (G1 - G3) * (V1 - V3)**2 - (G1 - G3) * V1 * V3 * cos(F1 - F3) + (B1 - B3) * V1 * V3 * sin(F1 - F3)\n",
    "P32 = (G3 - G2) * (V3 - V2)**2 - (G3 - G2) * V3 * V2 * cos(F3 - F2) + (B3 - B2) * V3 * V2 * sin(F3 - F2)\n",
    "print(f\"P13 = {P13:.4f}\")\n",
    "print(f\"P32 = {P32:.4f}\")\n",
    "print(f\"P33 = {P33:.4f}\")"
   ]
  }
 ],
 "metadata": {
  "kernelspec": {
   "display_name": "Python 3",
   "language": "python",
   "name": "python3"
  },
  "language_info": {
   "codemirror_mode": {
    "name": "ipython",
    "version": 3
   },
   "file_extension": ".py",
   "mimetype": "text/x-python",
   "name": "python",
   "nbconvert_exporter": "python",
   "pygments_lexer": "ipython3",
   "version": "3.12.0"
  }
 },
 "nbformat": 4,
 "nbformat_minor": 2
}
